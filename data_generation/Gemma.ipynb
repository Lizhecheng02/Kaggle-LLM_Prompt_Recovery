{
 "cells": [
  {
   "cell_type": "code",
   "execution_count": null,
   "id": "f2c580af-e662-4364-b597-7e33af1c7d0b",
   "metadata": {
    "tags": []
   },
   "outputs": [],
   "source": [
    "from vllm import LLM, SamplingParams\n",
    "import random\n",
    "from tqdm import tqdm\n",
    "import pandas as pd\n",
    "llm = LLM(\"./gemma/7b-it/\", max_model_len=4096)\n",
    "sampling_params = SamplingParams(temperature=0.8, top_p=0.95, max_tokens=3000)"
   ]
  },
  {
   "cell_type": "code",
   "execution_count": null,
   "id": "c4e32747-4410-4181-885e-87fe4c825c6f",
   "metadata": {
    "tags": []
   },
   "outputs": [],
   "source": [
    "prompts = pd.read_csv(\"../data_cleaning/clean_prompt.csv\")"
   ]
  },
  {
   "cell_type": "code",
   "execution_count": null,
   "id": "9aacdfec-c531-4166-8415-390183285025",
   "metadata": {
    "tags": []
   },
   "outputs": [],
   "source": [
    "prompts.columns = [\"rewrite_prompt\"]"
   ]
  },
  {
   "cell_type": "code",
   "execution_count": null,
   "id": "7311dcc2-f6a4-479e-a388-63ff243d799d",
   "metadata": {
    "tags": []
   },
   "outputs": [],
   "source": [
    "ps = list(prompts[\"rewrite_prompt\"])"
   ]
  },
  {
   "cell_type": "code",
   "execution_count": null,
   "id": "fb416f90-3cde-4808-bb77-32d82dca804d",
   "metadata": {
    "tags": []
   },
   "outputs": [],
   "source": [
    "df = pd.read_csv(\"../datasets/gemini_dataset_v0.csv\")\n",
    "df.query(\"rewrite_prompt == 'Convert this into a sea shanty with a rousing chorus.'\")"
   ]
  },
  {
   "cell_type": "code",
   "execution_count": null,
   "id": "c461104a-6656-463d-b049-34a8dd1fdcd5",
   "metadata": {
    "tags": []
   },
   "outputs": [],
   "source": [
    "df = pd.read_csv(\"../datasets/train.csv\")"
   ]
  },
  {
   "cell_type": "code",
   "execution_count": null,
   "id": "bfb48c49-c9dd-4e56-9480-0b138f978406",
   "metadata": {
    "tags": []
   },
   "outputs": [],
   "source": [
    "df"
   ]
  },
  {
   "cell_type": "code",
   "execution_count": null,
   "id": "29c1daa3-7b07-43d1-8759-4592c1919a60",
   "metadata": {
    "tags": []
   },
   "outputs": [],
   "source": [
    "df[\"rewrite_prompt\"][0]"
   ]
  },
  {
   "cell_type": "code",
   "execution_count": null,
   "id": "1bbf1ae3-7add-49e8-8d49-c496511d7c29",
   "metadata": {
    "tags": []
   },
   "outputs": [],
   "source": [
    "# prompts[\"rewrite_prompt\"] = prompts[\"rewrite_prompt\"].apply(lambda x: x[:-1] + \":\" if x[-1] == \".\" else x + \":\")"
   ]
  },
  {
   "cell_type": "code",
   "execution_count": null,
   "id": "3da84017-1bbb-4d97-a74d-cd33a83ed2dc",
   "metadata": {
    "tags": []
   },
   "outputs": [],
   "source": [
    "prompts"
   ]
  },
  {
   "cell_type": "code",
   "execution_count": null,
   "id": "c88231bc-83a8-4fb5-bda7-82feaf42ec17",
   "metadata": {
    "tags": []
   },
   "outputs": [],
   "source": [
    "source_text = pd.read_parquet(\"./train-00000-of-00001.parquet\")"
   ]
  },
  {
   "cell_type": "code",
   "execution_count": null,
   "id": "41341948-1de6-4d9f-9e1c-836ec6c35480",
   "metadata": {
    "tags": []
   },
   "outputs": [],
   "source": [
    "source_text.head()"
   ]
  },
  {
   "cell_type": "code",
   "execution_count": null,
   "id": "f03d15f1-b369-4f9c-8008-059e8807fc0a",
   "metadata": {
    "tags": []
   },
   "outputs": [],
   "source": [
    "USER_CHAT_TEMPLATE = \"<start_of_turn>user\\n{}<end_of_turn>\\n<start_of_turn>model\\n\"\n",
    "\n",
    "\n",
    "def format_template(idx, text):\n",
    "    o_p = prompts.loc[idx, \"rewrite_prompt\"]\n",
    "    if o_p[-1] == \".\":\n",
    "        p = o_p[:-1] + \":\"\n",
    "    else:\n",
    "        p = o_p + \":\"\n",
    "\n",
    "    inst = USER_CHAT_TEMPLATE.format(p + '\"\"\"' + text + '\"\"\"')\n",
    "    return o_p,  inst"
   ]
  },
  {
   "cell_type": "code",
   "execution_count": null,
   "id": "004a56cf-8b50-4e5f-b548-a0a4973ed8c8",
   "metadata": {
    "tags": []
   },
   "outputs": [],
   "source": [
    "original_texts = []\n",
    "rewritten_texts = []\n",
    "original_prompts = []\n",
    "\n",
    "acc = 0\n",
    "for idx in tqdm(range(len(prompts))):\n",
    "    i = random.randint(0, len(source_text) - 1)\n",
    "    text = source_text.loc[i, \"top_comment\"]\n",
    "    o_p,  inst = format_template(idx, text)\n",
    "    outputs = llm.generate([inst], sampling_params)\n",
    "    for output in outputs:\n",
    "        original_texts.append(text)\n",
    "        rewritten_texts.append(output.outputs[0].text)\n",
    "        original_prompts.append(o_p)\n",
    "        acc += 1\n",
    "    if acc != 0 and acc % 100 == 0:\n",
    "        gen_df = pd.DataFrame({\n",
    "            \"rewrite_prompt\": original_prompts,\n",
    "            \"original_text\": original_texts,\n",
    "            \"rewritten_text\": rewritten_texts\n",
    "        })\n",
    "        gen_df.to_csv(f\"./datasets/human_essays/gen_{acc}.csv\", index=False)"
   ]
  },
  {
   "cell_type": "code",
   "execution_count": null,
   "id": "c880e16b-1648-478f-8ed9-28a89f22f5b8",
   "metadata": {
    "tags": []
   },
   "outputs": [],
   "source": [
    "gen_df = pd.DataFrame({\n",
    "    \"rewrite_prompt\": original_prompts,\n",
    "    \"original_text\": original_texts,\n",
    "    \"rewritten_text\": rewritten_texts,\n",
    "    # \"style\": styles\n",
    "})\n",
    "gen_df.to_csv(f\"../datasets/gemini_dataset_v0.csv\", index=False)"
   ]
  }
 ],
 "metadata": {
  "kernelspec": {
   "display_name": "Python 3 (ipykernel)",
   "language": "python",
   "name": "python3"
  },
  "language_info": {
   "codemirror_mode": {
    "name": "ipython",
    "version": 3
   },
   "file_extension": ".py",
   "mimetype": "text/x-python",
   "name": "python",
   "nbconvert_exporter": "python",
   "pygments_lexer": "ipython3",
   "version": "3.10.9"
  }
 },
 "nbformat": 4,
 "nbformat_minor": 5
}
