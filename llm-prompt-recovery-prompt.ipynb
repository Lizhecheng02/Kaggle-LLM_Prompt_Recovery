{
 "cells": [
  {
   "cell_type": "code",
   "execution_count": 1,
   "metadata": {},
   "outputs": [],
   "source": [
    "import os\n",
    "from openai import OpenAI\n",
    "from tqdm import tqdm\n",
    "import random\n",
    "from dotenv import find_dotenv, load_dotenv\n",
    "import pandas as pd\n",
    "tqdm.pandas()\n",
    "_ = load_dotenv(find_dotenv())"
   ]
  },
  {
   "cell_type": "code",
   "execution_count": 2,
   "metadata": {
    "execution": {
     "iopub.execute_input": "2024-03-13T07:52:18.149468Z",
     "iopub.status.busy": "2024-03-13T07:52:18.149071Z",
     "iopub.status.idle": "2024-03-13T07:52:18.158093Z",
     "shell.execute_reply": "2024-03-13T07:52:18.156508Z",
     "shell.execute_reply.started": "2024-03-13T07:52:18.149432Z"
    }
   },
   "outputs": [],
   "source": [
    "model_name = \"gpt-4-1106-preview\"\n",
    "def get_response(msg):\n",
    "    messages = [\n",
    "        {\n",
    "            \"role\": \"user\",\n",
    "            \"content\": msg\n",
    "        }\n",
    "    ]\n",
    "    \n",
    "    client = OpenAI(\n",
    "        api_key=os.environ[\"OPENAI_API_KEY\"],\n",
    "        base_url=os.environ[\"OPENAI_API_BASE\"],\n",
    "    )\n",
    "    response = client.chat.completions.create(\n",
    "        model=model_name,\n",
    "        messages=messages,\n",
    "        temperature=0.9,\n",
    "        \n",
    "    )\n",
    "    \n",
    "    output = response.choices[0].message.content\n",
    "    return output"
   ]
  },
  {
   "cell_type": "code",
   "execution_count": 3,
   "metadata": {
    "execution": {
     "iopub.execute_input": "2024-03-13T07:52:18.161089Z",
     "iopub.status.busy": "2024-03-13T07:52:18.160129Z",
     "iopub.status.idle": "2024-03-13T07:52:18.170838Z",
     "shell.execute_reply": "2024-03-13T07:52:18.169516Z",
     "shell.execute_reply.started": "2024-03-13T07:52:18.161038Z"
    }
   },
   "outputs": [],
   "source": [
    "stage1_prompt = \"\"\"\n",
    "Brainstorm a list of potentially useful text rewritten tasks. Here are a few examples for your reference: \n",
    "- Adapt writing style to imitate a specific author or genre. \n",
    "- Rewrite text to be more formal, suitable for professional or academic settings.\n",
    "- Convert this into a sea shanty.\n",
    "Please adhere to the following guidelines: \n",
    "- Specify what the task is, and what the rewritten text are. \n",
    "- Each rewritten task should cover a wide range of queries, and should not be too specific. \n",
    "Your output should always be a python list of strings only, with about 50 elements, and each element corresponds to a distinct rewritten task in one sentence.\n",
    "\n",
    "Here is an output format example:\n",
    "- xxxxxxxxxx.\n",
    "- xxxxxxxx.\n",
    "\n",
    "Do not explain yourself or output anything else. YOU MUST BE CREATIVE!\n",
    "\"\"\""
   ]
  },
  {
   "cell_type": "code",
   "execution_count": 4,
   "metadata": {
    "execution": {
     "iopub.execute_input": "2024-03-13T07:52:18.173274Z",
     "iopub.status.busy": "2024-03-13T07:52:18.172839Z",
     "iopub.status.idle": "2024-03-13T07:52:18.190191Z",
     "shell.execute_reply": "2024-03-13T07:52:18.189217Z",
     "shell.execute_reply.started": "2024-03-13T07:52:18.173235Z"
    }
   },
   "outputs": [],
   "source": [
    "stage2_prompt = \"\"\"\n",
    "You have been assigned a text written task: {}\n",
    "Your mission is to write 30 specific text rewritten prompts for this task in JSON format. The JSON object must contain the following keys: \n",
    "- \"rewrite_prompt\": a string, the prompt specified by the classification task. \n",
    "Please adhere to the following guidelines: \n",
    "- The \"rewrite_prompt\" should be less than 20 words and diverse in expression. \n",
    "- The values for all fields should be in English. \n",
    "- The \"rewrite_prompt\" is clear and requires high school level education to comprehend. \n",
    "- The original text should named \"text\" in \"rewrite_prompt\"\n",
    "Your output must always be a JSON object only, do not explain yourself or output anything else. YOU MUST BE CREATIVE!\n",
    "\"\"\""
   ]
  },
  {
   "cell_type": "code",
   "execution_count": 5,
   "metadata": {
    "execution": {
     "iopub.execute_input": "2024-03-13T07:52:18.191971Z",
     "iopub.status.busy": "2024-03-13T07:52:18.191165Z",
     "iopub.status.idle": "2024-03-13T07:52:18.203921Z",
     "shell.execute_reply": "2024-03-13T07:52:18.203061Z",
     "shell.execute_reply.started": "2024-03-13T07:52:18.191936Z"
    }
   },
   "outputs": [],
   "source": [
    "stage3_prompt = \"\"\"\n",
    "I will give you an input that contains many rewrite prompts. Find all of them and return only the content of the prompt as a Python list.\n",
    "\n",
    "Here is an output format example:\n",
    "- xxxxxxxxxx.\n",
    "- xxxxxxxx.\n",
    "\n",
    "This is the input:\n",
    "{}\n",
    "Now finish the task I give to you.\n",
    "\"\"\""
   ]
  },
  {
   "cell_type": "code",
   "execution_count": 6,
   "metadata": {},
   "outputs": [],
   "source": [
    "topic_list = get_response(stage1_prompt)\n",
    "topic_list = topic_list.split(\"\\n\")"
   ]
  },
  {
   "cell_type": "code",
   "execution_count": 7,
   "metadata": {
    "execution": {
     "iopub.execute_input": "2024-03-13T07:52:28.107202Z",
     "iopub.status.busy": "2024-03-13T07:52:28.106781Z",
     "iopub.status.idle": "2024-03-13T07:53:15.682908Z",
     "shell.execute_reply": "2024-03-13T07:53:15.678282Z",
     "shell.execute_reply.started": "2024-03-13T07:52:28.107128Z"
    }
   },
   "outputs": [
    {
     "name": "stderr",
     "output_type": "stream",
     "text": [
      "  0%|          | 0/50 [00:00<?, ?it/s]"
     ]
    },
    {
     "name": "stderr",
     "output_type": "stream",
     "text": [
      "100%|██████████| 50/50 [1:51:18<00:00, 133.58s/it]\n"
     ]
    }
   ],
   "source": [
    "prompt_lists = []\n",
    "\n",
    "for idx, topic in tqdm(enumerate(topic_list), total=len(topic_list)):\n",
    "    clean_topic = stage2_prompt.format(topic[2:])\n",
    "    output = get_response(clean_topic)\n",
    "    # print(output)\n",
    "    output = stage3_prompt.format(output)\n",
    "    final_output = get_response(output)\n",
    "    # print(final_output)\n",
    "    \n",
    "    final_output_lists = final_output.split(\"\\n\")\n",
    "    for final_prompt in final_output_lists:\n",
    "        prompt_lists.append(final_prompt[2:])\n",
    "    \n",
    "    "
   ]
  },
  {
   "cell_type": "code",
   "execution_count": 8,
   "metadata": {},
   "outputs": [],
   "source": [
    "# 保存数据\n",
    "df = pd.DataFrame(prompt_lists, columns=[\"prompt\"])\n",
    "df.to_csv(f\"../kaggle_dataset/prompt_list_{model_name}.csv\", index=False)"
   ]
  },
  {
   "cell_type": "code",
   "execution_count": null,
   "metadata": {},
   "outputs": [],
   "source": []
  }
 ],
 "metadata": {
  "kaggle": {
   "accelerator": "none",
   "dataSources": [
    {
     "datasetId": 4538357,
     "sourceId": 7790371,
     "sourceType": "datasetVersion"
    }
   ],
   "dockerImageVersionId": 30664,
   "isGpuEnabled": false,
   "isInternetEnabled": true,
   "language": "python",
   "sourceType": "notebook"
  },
  "kernelspec": {
   "display_name": "kaggle",
   "language": "python",
   "name": "kaggle"
  },
  "language_info": {
   "codemirror_mode": {
    "name": "ipython",
    "version": 3
   },
   "file_extension": ".py",
   "mimetype": "text/x-python",
   "name": "python",
   "nbconvert_exporter": "python",
   "pygments_lexer": "ipython3",
   "version": "3.10.13"
  }
 },
 "nbformat": 4,
 "nbformat_minor": 4
}
