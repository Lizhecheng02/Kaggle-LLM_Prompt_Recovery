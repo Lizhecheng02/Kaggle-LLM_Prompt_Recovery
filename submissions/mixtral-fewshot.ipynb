{
 "cells": [
  {
   "cell_type": "code",
   "execution_count": 1,
   "id": "034d3cd4",
   "metadata": {
    "_kg_hide-input": true,
    "_kg_hide-output": true,
    "execution": {
     "iopub.execute_input": "2024-03-22T20:09:03.460046Z",
     "iopub.status.busy": "2024-03-22T20:09:03.459687Z",
     "iopub.status.idle": "2024-03-22T20:10:01.553658Z",
     "shell.execute_reply": "2024-03-22T20:10:01.552429Z"
    },
    "papermill": {
     "duration": 58.102464,
     "end_time": "2024-03-22T20:10:01.556203",
     "exception": false,
     "start_time": "2024-03-22T20:09:03.453739",
     "status": "completed"
    },
    "tags": []
   },
   "outputs": [],
   "source": [
    "%%capture\n",
    "# If you want to save 4-bit models, make sure to have `bitsandbytes>=0.41.3` installed\n",
    "!pip install --no-index /kaggle/input/making-wheels-of-necessary-packages-for-hf-llms/bitsandbytes-0.42.0-py3-none-any.whl --find-links=/kaggle/input/making-wheels-of-necessary-packages-for-hf-llms\n",
    "!pip install --no-index /kaggle/input/making-wheels-of-necessary-packages-for-hf-llms/accelerate-0.27.2-py3-none-any.whl --find-links=/kaggle/input/making-wheels-of-necessary-packages-for-hf-llms\n",
    "!pip install --no-index /kaggle/input/making-wheels-of-necessary-packages-for-hf-llms/transformers-4.38.1-py3-none-any.whl --find-links=/kaggle/input/making-wheels-of-necessary-packages-for-hf-llms\n",
    "!pip install --no-index /kaggle/input/making-wheels-of-necessary-packages-for-hf-llms/optimum-1.17.1-py3-none-any.whl --find-links=/kaggle/input/making-wheels-of-necessary-packages-for-hf-llms"
   ]
  },
  {
   "cell_type": "code",
   "execution_count": 2,
   "id": "32903294",
   "metadata": {
    "_kg_hide-input": true,
    "_kg_hide-output": true,
    "execution": {
     "iopub.execute_input": "2024-03-22T20:10:01.566398Z",
     "iopub.status.busy": "2024-03-22T20:10:01.566076Z",
     "iopub.status.idle": "2024-03-22T20:10:09.226572Z",
     "shell.execute_reply": "2024-03-22T20:10:09.225771Z"
    },
    "papermill": {
     "duration": 7.668393,
     "end_time": "2024-03-22T20:10:09.229142",
     "exception": false,
     "start_time": "2024-03-22T20:10:01.560749",
     "status": "completed"
    },
    "tags": []
   },
   "outputs": [],
   "source": [
    "from accelerate.utils import BnbQuantizationConfig\n",
    "from accelerate import Accelerator\n",
    "import transformers\n",
    "import optimum\n",
    "import bitsandbytes"
   ]
  },
  {
   "cell_type": "code",
   "execution_count": 3,
   "id": "2ab166c7",
   "metadata": {
    "execution": {
     "iopub.execute_input": "2024-03-22T20:10:09.238716Z",
     "iopub.status.busy": "2024-03-22T20:10:09.238302Z",
     "iopub.status.idle": "2024-03-22T20:10:09.242439Z",
     "shell.execute_reply": "2024-03-22T20:10:09.241574Z"
    },
    "papermill": {
     "duration": 0.011095,
     "end_time": "2024-03-22T20:10:09.244474",
     "exception": false,
     "start_time": "2024-03-22T20:10:09.233379",
     "status": "completed"
    },
    "tags": []
   },
   "outputs": [],
   "source": [
    "import datetime\n",
    "start_time = datetime.datetime.now()"
   ]
  },
  {
   "cell_type": "code",
   "execution_count": 4,
   "id": "aaed95f6",
   "metadata": {
    "execution": {
     "iopub.execute_input": "2024-03-22T20:10:09.253283Z",
     "iopub.status.busy": "2024-03-22T20:10:09.253025Z",
     "iopub.status.idle": "2024-03-22T20:22:13.931234Z",
     "shell.execute_reply": "2024-03-22T20:22:13.930360Z"
    },
    "papermill": {
     "duration": 724.685156,
     "end_time": "2024-03-22T20:22:13.933639",
     "exception": false,
     "start_time": "2024-03-22T20:10:09.248483",
     "status": "completed"
    },
    "tags": []
   },
   "outputs": [
    {
     "data": {
      "application/vnd.jupyter.widget-view+json": {
       "model_id": "9d0136cf01e74a4c825b6be85cad9cc2",
       "version_major": 2,
       "version_minor": 0
      },
      "text/plain": [
       "Loading checkpoint shards:   0%|          | 0/19 [00:00<?, ?it/s]"
      ]
     },
     "metadata": {},
     "output_type": "display_data"
    }
   ],
   "source": [
    "import torch\n",
    "from transformers import AutoModelForCausalLM, AutoTokenizer, BitsAndBytesConfig, AutoConfig\n",
    "\n",
    "accelerator = Accelerator()\n",
    "\n",
    "# Comment/Uncomment and use as per wish\n",
    "\n",
    "# MODEL_PATH = \"/kaggle/input/gemma/transformers/7b-it/2\"\n",
    "# MODEL_PATH = \"/kaggle/input/gemma/transformers/2b-it/2\"\n",
    "# MODEL_PATH = \"/kaggle/input/mistral/pytorch/7b-instruct-v0.1-hf/1\"\n",
    "MODEL_PATH = \"/kaggle/input/mixtral/pytorch/8x7b-instruct-v0.1-hf/1\"\n",
    "# MODEL_PATH = \"/kaggle/input/llama-2/pytorch/7b-chat-hf/1\"\n",
    "# MODEL_PATH = \"/kaggle/input/llama-2/pytorch/13b-chat-hf/1\"\n",
    "\n",
    "# Found a good blog to catch me up fast!\n",
    "# https://huggingface.co/blog/4bit-transformers-bitsandbytes\n",
    "# https://huggingface.co/docs/transformers/v4.38.1/en/quantization#compute-data-type\n",
    "quantization_config = BitsAndBytesConfig(\n",
    "    load_in_4bit=True,\n",
    "    bnb_4bit_quant_type=\"nf4\",\n",
    "    bnb_4bit_compute_dtype=torch.bfloat16,\n",
    "    bnb_4bit_use_double_quant=True,\n",
    ")\n",
    "\n",
    "tokenizer = AutoTokenizer.from_pretrained(MODEL_PATH)\n",
    "\n",
    "\n",
    "model = AutoModelForCausalLM.from_pretrained(\n",
    "    MODEL_PATH,\n",
    "    device_map=\"auto\",\n",
    "    trust_remote_code=True,\n",
    "    quantization_config=quantization_config,\n",
    ")\n",
    "\n",
    "# model = model.to_bettertransformer()\n",
    "model = accelerator.prepare(model)"
   ]
  },
  {
   "cell_type": "code",
   "execution_count": 5,
   "id": "b2670b5e",
   "metadata": {
    "execution": {
     "iopub.execute_input": "2024-03-22T20:22:13.943938Z",
     "iopub.status.busy": "2024-03-22T20:22:13.943112Z",
     "iopub.status.idle": "2024-03-22T20:22:15.116964Z",
     "shell.execute_reply": "2024-03-22T20:22:15.116130Z"
    },
    "papermill": {
     "duration": 1.181001,
     "end_time": "2024-03-22T20:22:15.119167",
     "exception": false,
     "start_time": "2024-03-22T20:22:13.938166",
     "status": "completed"
    },
    "tags": []
   },
   "outputs": [],
   "source": [
    "import pandas as pd\n",
    "from tqdm import tqdm\n",
    "\n",
    "DEBUG = False\n",
    "\n",
    "TEST_DF_FILE = \"/kaggle/input/llm-prompt-recovery/test.csv\"\n",
    "SUB_DF_FILE = \"/kaggle/input/llm-prompt-recovery/sample_submission.csv\"\n",
    "NROWS = None if DEBUG else None\n",
    "\n",
    "if DEBUG:\n",
    "    TEST_DF_FILE = \"/kaggle/input/gemma-rewrite-nbroad/nbroad-v1.csv\"\n",
    "    SUB_DF_FILE = TEST_DF_FILE\n",
    "\n",
    "tdf = pd.read_csv(TEST_DF_FILE, nrows=NROWS, usecols=[\"id\", \"original_text\", \"rewritten_text\"])\n",
    "sub = pd.read_csv(SUB_DF_FILE, nrows=NROWS, usecols=[\"id\", \"rewrite_prompt\"])"
   ]
  },
  {
   "cell_type": "code",
   "execution_count": 6,
   "id": "4caa2819",
   "metadata": {
    "execution": {
     "iopub.execute_input": "2024-03-22T20:22:15.128509Z",
     "iopub.status.busy": "2024-03-22T20:22:15.128223Z",
     "iopub.status.idle": "2024-03-22T20:22:15.135653Z",
     "shell.execute_reply": "2024-03-22T20:22:15.134832Z"
    },
    "papermill": {
     "duration": 0.014266,
     "end_time": "2024-03-22T20:22:15.137619",
     "exception": false,
     "start_time": "2024-03-22T20:22:15.123353",
     "status": "completed"
    },
    "tags": []
   },
   "outputs": [],
   "source": [
    "def truncate_txt(text, length):\n",
    "    text_list = text.split()\n",
    "    \n",
    "    if len(text_list) <= length:\n",
    "        return text\n",
    "    \n",
    "    return \" \".join(text_list[:length])\n",
    "\n",
    "\n",
    "def gen_prompt(og_text, rewritten_text):\n",
    "    \n",
    "    # Truncate the texts to first 200 words for now\n",
    "    # As we are having memory issues on Mixtral8x7b\n",
    "    og_text = truncate_txt(og_text, 200)\n",
    "    rewritten_text = truncate_txt(rewritten_text, 200)\n",
    "    \n",
    "    return f\"\"\"    \n",
    "    Original Essay:\n",
    "    \\\"\"\"{og_text}\\\"\"\"\n",
    "    \n",
    "    Rewritten Essay:\n",
    "    \\\"\"\"{rewritten_text}\\\"\"\"\n",
    "    \n",
    "    Given are 2 essays, the Rewritten Essay was created from the Original Essay using the large language model.\n",
    "    You are trying to understand how the original essay was transformed into a new version.\n",
    "    Analyzing the changes in style, theme, etc., please come up with a prompt that must have been used to guide the transformation from the original to the rewritten essay.\n",
    "    Start directly with the prompt, that\"s all I need. Output should be only line ONLY. If you are not sure about the prompt, you can output \"Rewrite this text to alter its tone, structure, or level of formality to improve the text.\".\n",
    "    \n",
    "    Here is an example.\n",
    "    Original Essay:\n",
    "    \\\"\"\"The competition dataset comprises text passages that have been rewritten by the Gemma LLM according to some rewrite_prompt instruction. The goal of the competition is to determine what prompt was used to rewrite each original text.  Please note that this is a Code Competition. When your submission is scored, this example test data will be replaced with the full test set. Expect roughly 2,000 original texts in the test set.\\\"\"\"\n",
    "    \n",
    "    Rewritten Essay:\n",
    "    \\\"\"\"Here is your shanty: (Verse 1) The text is rewritten, the LLM has spun, With prompts so clever, they\"ve been outrun. The goal is to find, the prompt so bright, To crack the code, and shine the light. (Chorus) Oh, this is a code competition, my dear, With text and prompts, we\"ll compete. Two thousand texts, a challenge grand, To guess the prompts, hand over hand.(Verse 2) The original text, a treasure lost, The rewrite prompt, a secret to be\\\"\"\"\n",
    "    \n",
    "    Output:\n",
    "    Convert this into a sea shanty.\n",
    "    \"\"\""
   ]
  },
  {
   "cell_type": "code",
   "execution_count": 7,
   "id": "790a3102",
   "metadata": {
    "execution": {
     "iopub.execute_input": "2024-03-22T20:22:15.146783Z",
     "iopub.status.busy": "2024-03-22T20:22:15.146511Z",
     "iopub.status.idle": "2024-03-22T20:22:45.025861Z",
     "shell.execute_reply": "2024-03-22T20:22:45.024850Z"
    },
    "papermill": {
     "duration": 29.886575,
     "end_time": "2024-03-22T20:22:45.028453",
     "exception": false,
     "start_time": "2024-03-22T20:22:15.141878",
     "status": "completed"
    },
    "tags": []
   },
   "outputs": [
    {
     "name": "stderr",
     "output_type": "stream",
     "text": [
      "  0%|          | 0/1 [00:00<?, ?it/s]2024-03-22 20:22:28.445784: E external/local_xla/xla/stream_executor/cuda/cuda_dnn.cc:9261] Unable to register cuDNN factory: Attempting to register factory for plugin cuDNN when one has already been registered\n",
      "2024-03-22 20:22:28.445925: E external/local_xla/xla/stream_executor/cuda/cuda_fft.cc:607] Unable to register cuFFT factory: Attempting to register factory for plugin cuFFT when one has already been registered\n",
      "2024-03-22 20:22:28.619288: E external/local_xla/xla/stream_executor/cuda/cuda_blas.cc:1515] Unable to register cuBLAS factory: Attempting to register factory for plugin cuBLAS when one has already been registered\n",
      "100%|██████████| 1/1 [00:29<00:00, 29.86s/it]\n"
     ]
    }
   ],
   "source": [
    "import gc\n",
    "import re\n",
    "\n",
    "device = accelerator.device\n",
    "tdf[\"id\"] = sub[\"id\"].copy()\n",
    "\n",
    "pbar = tqdm(total=tdf.shape[0])\n",
    "\n",
    "it = iter(tdf.iterrows())\n",
    "idx, row = next(it, (None, None))\n",
    "\n",
    "DEFAULT_TEXT = \"Rewrite this text to alter its tone, structure, or level of formality to improve the text.\"\n",
    "\n",
    "res = []\n",
    "\n",
    "while idx is not None:\n",
    "    \n",
    "    if (datetime.datetime.now() - start_time) > datetime.timedelta(hours=8, minutes=50):\n",
    "        res.append([row[\"id\"], DEFAULT_TEXT])\n",
    "        idx, row = next(it, (None, None))\n",
    "        pbar.update(1)\n",
    "        continue\n",
    "        \n",
    "    torch.cuda.empty_cache()\n",
    "    gc.collect()\n",
    "        \n",
    "    try:        \n",
    "        messages = [\n",
    "            {\n",
    "                \"role\": \"user\",\n",
    "                \"content\": gen_prompt(row[\"original_text\"], row[\"rewritten_text\"])\n",
    "            }\n",
    "        ]\n",
    "        encoded_input = tokenizer.apply_chat_template(messages, return_tensors=\"pt\", add_generation_prompt=True).to(device)\n",
    "        \n",
    "        with torch.no_grad():\n",
    "            encoded_output = model.generate(encoded_input, max_new_tokens=30, do_sample=True, pad_token_id=tokenizer.eos_token_id)\n",
    "        \n",
    "        decoded_output = tokenizer.batch_decode(encoded_output, skip_special_tokens=True)[0]\n",
    "        decoded_output = result = re.sub(r\"[\\s\\S]*\\[\\/INST\\]\", \"\", decoded_output, 1)\n",
    "                \n",
    "        res.append([row[\"id\"], decoded_output])\n",
    "                            \n",
    "    except Exception as e:\n",
    "        print(f\"ERROR: {e}\")\n",
    "        res.append([row[\"id\"], DEFAULT_TEXT])\n",
    "        \n",
    "    finally:\n",
    "        idx, row = next(it, (None, None))\n",
    "        pbar.update(1)\n",
    "\n",
    "        \n",
    "pbar.close()"
   ]
  },
  {
   "cell_type": "code",
   "execution_count": 8,
   "id": "be31c982",
   "metadata": {
    "execution": {
     "iopub.execute_input": "2024-03-22T20:22:45.039051Z",
     "iopub.status.busy": "2024-03-22T20:22:45.038508Z",
     "iopub.status.idle": "2024-03-22T20:22:45.049374Z",
     "shell.execute_reply": "2024-03-22T20:22:45.048506Z"
    },
    "papermill": {
     "duration": 0.018287,
     "end_time": "2024-03-22T20:22:45.051336",
     "exception": false,
     "start_time": "2024-03-22T20:22:45.033049",
     "status": "completed"
    },
    "tags": []
   },
   "outputs": [],
   "source": [
    "sub = pd.DataFrame(res, columns=[\"id\", \"rewrite_prompt\"])\n",
    "\n",
    "sub.to_csv(\"sample_submission.csv\", index=False)\n",
    "sub.to_csv(\"submission.csv\", index=False)"
   ]
  },
  {
   "cell_type": "code",
   "execution_count": 9,
   "id": "c453c384",
   "metadata": {
    "execution": {
     "iopub.execute_input": "2024-03-22T20:22:45.061862Z",
     "iopub.status.busy": "2024-03-22T20:22:45.061575Z",
     "iopub.status.idle": "2024-03-22T20:22:45.073655Z",
     "shell.execute_reply": "2024-03-22T20:22:45.072829Z"
    },
    "papermill": {
     "duration": 0.019472,
     "end_time": "2024-03-22T20:22:45.075636",
     "exception": false,
     "start_time": "2024-03-22T20:22:45.056164",
     "status": "completed"
    },
    "tags": []
   },
   "outputs": [
    {
     "data": {
      "text/html": [
       "<div>\n",
       "<style scoped>\n",
       "    .dataframe tbody tr th:only-of-type {\n",
       "        vertical-align: middle;\n",
       "    }\n",
       "\n",
       "    .dataframe tbody tr th {\n",
       "        vertical-align: top;\n",
       "    }\n",
       "\n",
       "    .dataframe thead th {\n",
       "        text-align: right;\n",
       "    }\n",
       "</style>\n",
       "<table border=\"1\" class=\"dataframe\">\n",
       "  <thead>\n",
       "    <tr style=\"text-align: right;\">\n",
       "      <th></th>\n",
       "      <th>id</th>\n",
       "      <th>rewrite_prompt</th>\n",
       "    </tr>\n",
       "  </thead>\n",
       "  <tbody>\n",
       "    <tr>\n",
       "      <th>0</th>\n",
       "      <td>9559194</td>\n",
       "      <td>Rewrite this text as a sea shanty, with two v...</td>\n",
       "    </tr>\n",
       "  </tbody>\n",
       "</table>\n",
       "</div>"
      ],
      "text/plain": [
       "        id                                     rewrite_prompt\n",
       "0  9559194   Rewrite this text as a sea shanty, with two v..."
      ]
     },
     "execution_count": 9,
     "metadata": {},
     "output_type": "execute_result"
    }
   ],
   "source": [
    "sub"
   ]
  },
  {
   "cell_type": "code",
   "execution_count": 10,
   "id": "f1d772a0",
   "metadata": {
    "execution": {
     "iopub.execute_input": "2024-03-22T20:22:45.085608Z",
     "iopub.status.busy": "2024-03-22T20:22:45.085345Z",
     "iopub.status.idle": "2024-03-22T20:22:45.090619Z",
     "shell.execute_reply": "2024-03-22T20:22:45.089839Z"
    },
    "papermill": {
     "duration": 0.012366,
     "end_time": "2024-03-22T20:22:45.092491",
     "exception": false,
     "start_time": "2024-03-22T20:22:45.080125",
     "status": "completed"
    },
    "tags": []
   },
   "outputs": [
    {
     "data": {
      "text/plain": [
       "[[9559194,\n",
       "  ' Rewrite this text as a sea shanty, with two verses and a chorus.']]"
      ]
     },
     "execution_count": 10,
     "metadata": {},
     "output_type": "execute_result"
    }
   ],
   "source": [
    "res"
   ]
  }
 ],
 "metadata": {
  "kaggle": {
   "accelerator": "nvidiaTeslaT4",
   "dataSources": [
    {
     "databundleVersionId": 7806901,
     "sourceId": 67121,
     "sourceType": "competition"
    },
    {
     "datasetId": 4506214,
     "sourceId": 7747717,
     "sourceType": "datasetVersion"
    },
    {
     "sourceId": 164836055,
     "sourceType": "kernelVersion"
    },
    {
     "modelInstanceId": 3093,
     "sourceId": 4298,
     "sourceType": "modelInstanceVersion"
    },
    {
     "modelInstanceId": 3097,
     "sourceId": 4302,
     "sourceType": "modelInstanceVersion"
    },
    {
     "modelInstanceId": 3900,
     "sourceId": 5112,
     "sourceType": "modelInstanceVersion"
    },
    {
     "modelInstanceId": 4761,
     "sourceId": 5994,
     "sourceType": "modelInstanceVersion"
    },
    {
     "modelInstanceId": 8332,
     "sourceId": 11394,
     "sourceType": "modelInstanceVersion"
    }
   ],
   "dockerImageVersionId": 30665,
   "isGpuEnabled": true,
   "isInternetEnabled": false,
   "language": "python",
   "sourceType": "notebook"
  },
  "kernelspec": {
   "display_name": "Python 3",
   "language": "python",
   "name": "python3"
  },
  "language_info": {
   "codemirror_mode": {
    "name": "ipython",
    "version": 3
   },
   "file_extension": ".py",
   "mimetype": "text/x-python",
   "name": "python",
   "nbconvert_exporter": "python",
   "pygments_lexer": "ipython3",
   "version": "3.10.13"
  },
  "papermill": {
   "default_parameters": {},
   "duration": 827.693507,
   "end_time": "2024-03-22T20:22:48.122527",
   "environment_variables": {},
   "exception": null,
   "input_path": "__notebook__.ipynb",
   "output_path": "__notebook__.ipynb",
   "parameters": {},
   "start_time": "2024-03-22T20:09:00.429020",
   "version": "2.5.0"
  },
  "widgets": {
   "application/vnd.jupyter.widget-state+json": {
    "state": {
     "0755b3f099fe49498864253f2593b44a": {
      "model_module": "@jupyter-widgets/base",
      "model_module_version": "1.2.0",
      "model_name": "LayoutModel",
      "state": {
       "_model_module": "@jupyter-widgets/base",
       "_model_module_version": "1.2.0",
       "_model_name": "LayoutModel",
       "_view_count": null,
       "_view_module": "@jupyter-widgets/base",
       "_view_module_version": "1.2.0",
       "_view_name": "LayoutView",
       "align_content": null,
       "align_items": null,
       "align_self": null,
       "border": null,
       "bottom": null,
       "display": null,
       "flex": null,
       "flex_flow": null,
       "grid_area": null,
       "grid_auto_columns": null,
       "grid_auto_flow": null,
       "grid_auto_rows": null,
       "grid_column": null,
       "grid_gap": null,
       "grid_row": null,
       "grid_template_areas": null,
       "grid_template_columns": null,
       "grid_template_rows": null,
       "height": null,
       "justify_content": null,
       "justify_items": null,
       "left": null,
       "margin": null,
       "max_height": null,
       "max_width": null,
       "min_height": null,
       "min_width": null,
       "object_fit": null,
       "object_position": null,
       "order": null,
       "overflow": null,
       "overflow_x": null,
       "overflow_y": null,
       "padding": null,
       "right": null,
       "top": null,
       "visibility": null,
       "width": null
      }
     },
     "0f0ab4c0c9f34cb88e30f3500e293b34": {
      "model_module": "@jupyter-widgets/controls",
      "model_module_version": "1.5.0",
      "model_name": "DescriptionStyleModel",
      "state": {
       "_model_module": "@jupyter-widgets/controls",
       "_model_module_version": "1.5.0",
       "_model_name": "DescriptionStyleModel",
       "_view_count": null,
       "_view_module": "@jupyter-widgets/base",
       "_view_module_version": "1.2.0",
       "_view_name": "StyleView",
       "description_width": ""
      }
     },
     "1bd8ebec3dc04dbfb40f19d67d4e849b": {
      "model_module": "@jupyter-widgets/base",
      "model_module_version": "1.2.0",
      "model_name": "LayoutModel",
      "state": {
       "_model_module": "@jupyter-widgets/base",
       "_model_module_version": "1.2.0",
       "_model_name": "LayoutModel",
       "_view_count": null,
       "_view_module": "@jupyter-widgets/base",
       "_view_module_version": "1.2.0",
       "_view_name": "LayoutView",
       "align_content": null,
       "align_items": null,
       "align_self": null,
       "border": null,
       "bottom": null,
       "display": null,
       "flex": null,
       "flex_flow": null,
       "grid_area": null,
       "grid_auto_columns": null,
       "grid_auto_flow": null,
       "grid_auto_rows": null,
       "grid_column": null,
       "grid_gap": null,
       "grid_row": null,
       "grid_template_areas": null,
       "grid_template_columns": null,
       "grid_template_rows": null,
       "height": null,
       "justify_content": null,
       "justify_items": null,
       "left": null,
       "margin": null,
       "max_height": null,
       "max_width": null,
       "min_height": null,
       "min_width": null,
       "object_fit": null,
       "object_position": null,
       "order": null,
       "overflow": null,
       "overflow_x": null,
       "overflow_y": null,
       "padding": null,
       "right": null,
       "top": null,
       "visibility": null,
       "width": null
      }
     },
     "2e3c30aecb7946a8aef3143ab7d57dce": {
      "model_module": "@jupyter-widgets/controls",
      "model_module_version": "1.5.0",
      "model_name": "DescriptionStyleModel",
      "state": {
       "_model_module": "@jupyter-widgets/controls",
       "_model_module_version": "1.5.0",
       "_model_name": "DescriptionStyleModel",
       "_view_count": null,
       "_view_module": "@jupyter-widgets/base",
       "_view_module_version": "1.2.0",
       "_view_name": "StyleView",
       "description_width": ""
      }
     },
     "33db1ec2ec4147e5922bd45f50940275": {
      "model_module": "@jupyter-widgets/controls",
      "model_module_version": "1.5.0",
      "model_name": "HTMLModel",
      "state": {
       "_dom_classes": [],
       "_model_module": "@jupyter-widgets/controls",
       "_model_module_version": "1.5.0",
       "_model_name": "HTMLModel",
       "_view_count": null,
       "_view_module": "@jupyter-widgets/controls",
       "_view_module_version": "1.5.0",
       "_view_name": "HTMLView",
       "description": "",
       "description_tooltip": null,
       "layout": "IPY_MODEL_4ee443fbfd1b4a2dbbdc303442e7c3d7",
       "placeholder": "​",
       "style": "IPY_MODEL_0f0ab4c0c9f34cb88e30f3500e293b34",
       "value": " 19/19 [11:56&lt;00:00, 35.52s/it]"
      }
     },
     "4ee443fbfd1b4a2dbbdc303442e7c3d7": {
      "model_module": "@jupyter-widgets/base",
      "model_module_version": "1.2.0",
      "model_name": "LayoutModel",
      "state": {
       "_model_module": "@jupyter-widgets/base",
       "_model_module_version": "1.2.0",
       "_model_name": "LayoutModel",
       "_view_count": null,
       "_view_module": "@jupyter-widgets/base",
       "_view_module_version": "1.2.0",
       "_view_name": "LayoutView",
       "align_content": null,
       "align_items": null,
       "align_self": null,
       "border": null,
       "bottom": null,
       "display": null,
       "flex": null,
       "flex_flow": null,
       "grid_area": null,
       "grid_auto_columns": null,
       "grid_auto_flow": null,
       "grid_auto_rows": null,
       "grid_column": null,
       "grid_gap": null,
       "grid_row": null,
       "grid_template_areas": null,
       "grid_template_columns": null,
       "grid_template_rows": null,
       "height": null,
       "justify_content": null,
       "justify_items": null,
       "left": null,
       "margin": null,
       "max_height": null,
       "max_width": null,
       "min_height": null,
       "min_width": null,
       "object_fit": null,
       "object_position": null,
       "order": null,
       "overflow": null,
       "overflow_x": null,
       "overflow_y": null,
       "padding": null,
       "right": null,
       "top": null,
       "visibility": null,
       "width": null
      }
     },
     "9048f7ebb0f945ba996ad9f007a228c7": {
      "model_module": "@jupyter-widgets/controls",
      "model_module_version": "1.5.0",
      "model_name": "ProgressStyleModel",
      "state": {
       "_model_module": "@jupyter-widgets/controls",
       "_model_module_version": "1.5.0",
       "_model_name": "ProgressStyleModel",
       "_view_count": null,
       "_view_module": "@jupyter-widgets/base",
       "_view_module_version": "1.2.0",
       "_view_name": "StyleView",
       "bar_color": null,
       "description_width": ""
      }
     },
     "9b8fea2cbb6c43158493921eb5a89ef7": {
      "model_module": "@jupyter-widgets/controls",
      "model_module_version": "1.5.0",
      "model_name": "HTMLModel",
      "state": {
       "_dom_classes": [],
       "_model_module": "@jupyter-widgets/controls",
       "_model_module_version": "1.5.0",
       "_model_name": "HTMLModel",
       "_view_count": null,
       "_view_module": "@jupyter-widgets/controls",
       "_view_module_version": "1.5.0",
       "_view_name": "HTMLView",
       "description": "",
       "description_tooltip": null,
       "layout": "IPY_MODEL_1bd8ebec3dc04dbfb40f19d67d4e849b",
       "placeholder": "​",
       "style": "IPY_MODEL_2e3c30aecb7946a8aef3143ab7d57dce",
       "value": "Loading checkpoint shards: 100%"
      }
     },
     "9d0136cf01e74a4c825b6be85cad9cc2": {
      "model_module": "@jupyter-widgets/controls",
      "model_module_version": "1.5.0",
      "model_name": "HBoxModel",
      "state": {
       "_dom_classes": [],
       "_model_module": "@jupyter-widgets/controls",
       "_model_module_version": "1.5.0",
       "_model_name": "HBoxModel",
       "_view_count": null,
       "_view_module": "@jupyter-widgets/controls",
       "_view_module_version": "1.5.0",
       "_view_name": "HBoxView",
       "box_style": "",
       "children": [
        "IPY_MODEL_9b8fea2cbb6c43158493921eb5a89ef7",
        "IPY_MODEL_aeb2139056344c979cf03d646b41e8ba",
        "IPY_MODEL_33db1ec2ec4147e5922bd45f50940275"
       ],
       "layout": "IPY_MODEL_c06473a95a4a45b0bfa9375c7a257cd6"
      }
     },
     "aeb2139056344c979cf03d646b41e8ba": {
      "model_module": "@jupyter-widgets/controls",
      "model_module_version": "1.5.0",
      "model_name": "FloatProgressModel",
      "state": {
       "_dom_classes": [],
       "_model_module": "@jupyter-widgets/controls",
       "_model_module_version": "1.5.0",
       "_model_name": "FloatProgressModel",
       "_view_count": null,
       "_view_module": "@jupyter-widgets/controls",
       "_view_module_version": "1.5.0",
       "_view_name": "ProgressView",
       "bar_style": "success",
       "description": "",
       "description_tooltip": null,
       "layout": "IPY_MODEL_0755b3f099fe49498864253f2593b44a",
       "max": 19,
       "min": 0,
       "orientation": "horizontal",
       "style": "IPY_MODEL_9048f7ebb0f945ba996ad9f007a228c7",
       "value": 19
      }
     },
     "c06473a95a4a45b0bfa9375c7a257cd6": {
      "model_module": "@jupyter-widgets/base",
      "model_module_version": "1.2.0",
      "model_name": "LayoutModel",
      "state": {
       "_model_module": "@jupyter-widgets/base",
       "_model_module_version": "1.2.0",
       "_model_name": "LayoutModel",
       "_view_count": null,
       "_view_module": "@jupyter-widgets/base",
       "_view_module_version": "1.2.0",
       "_view_name": "LayoutView",
       "align_content": null,
       "align_items": null,
       "align_self": null,
       "border": null,
       "bottom": null,
       "display": null,
       "flex": null,
       "flex_flow": null,
       "grid_area": null,
       "grid_auto_columns": null,
       "grid_auto_flow": null,
       "grid_auto_rows": null,
       "grid_column": null,
       "grid_gap": null,
       "grid_row": null,
       "grid_template_areas": null,
       "grid_template_columns": null,
       "grid_template_rows": null,
       "height": null,
       "justify_content": null,
       "justify_items": null,
       "left": null,
       "margin": null,
       "max_height": null,
       "max_width": null,
       "min_height": null,
       "min_width": null,
       "object_fit": null,
       "object_position": null,
       "order": null,
       "overflow": null,
       "overflow_x": null,
       "overflow_y": null,
       "padding": null,
       "right": null,
       "top": null,
       "visibility": null,
       "width": null
      }
     }
    },
    "version_major": 2,
    "version_minor": 0
   }
  }
 },
 "nbformat": 4,
 "nbformat_minor": 5
}
